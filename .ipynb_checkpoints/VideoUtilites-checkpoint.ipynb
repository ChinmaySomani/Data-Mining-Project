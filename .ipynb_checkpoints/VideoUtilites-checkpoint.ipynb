{
 "cells": [
  {
   "cell_type": "code",
   "execution_count": 13,
   "metadata": {},
   "outputs": [],
   "source": [
    "import imageio\n",
    "import numpy as np\n",
    "from PIL import Image\n",
    "import skvideo.io\n",
    "import cv2 \n",
    "import os"
   ]
  },
  {
   "cell_type": "code",
   "execution_count": 14,
   "metadata": {},
   "outputs": [],
   "source": [
    "def frameExtractor(filename, timestamp):\n",
    "    vid = cv2.VideoCapture(filename)\n",
    "    framePerSec = vid.get(cv2.CAP_PROP_FPS)\n",
    "    framePerSec = framePerSec/1000\n",
    "    frameNumber = 0\n",
    "    if timestamp >= 1 : \n",
    "        frameNumber = int(framePerSec * time) - 1\n",
    "    return frameNumber"
   ]
  },
  {
   "cell_type": "code",
   "execution_count": 15,
   "metadata": {},
   "outputs": [],
   "source": [
    "def getFrame(timestamp, x, y, videopath, entry):\n",
    "    videodata = skvideo.io.vread(videopath)\n",
    "    print(videopath)\n",
    "    frameNum = frameExtractor(videopath, timestamp/1000)\n",
    "    print(frameNum)\n",
    "    frame = videodata[frameNum-1]\n",
    "    imageio.imsave('frame'+ str(entry) + '.jpg', frame)"
   ]
  },
  {
   "cell_type": "code",
   "execution_count": 2,
   "metadata": {},
   "outputs": [],
   "source": [
    "#def createDirectory(directory):\n",
    "#    import os\n",
    "    #if directory is not present then make it\n",
    "#    if os.path.exists(os.path.dirname(directory)) == False :\n",
    "#        os.makedirs(os.path.dirname(directory))"
   ]
  },
  {
   "cell_type": "code",
   "execution_count": 4,
   "metadata": {},
   "outputs": [],
   "source": [
    "def tripleCrop(imagepath, coord):\n",
    "    #createDirectory(directory)\n",
    "    x, y = coord\n",
    "    cropDim = 32\n",
    "    for i in range(0,3):\n",
    "        im = Image.open(imagepath)\n",
    "        cropDim = cropDim*2 \n",
    "        print(cropDim)\n",
    "        leftCor = x - cropDim\n",
    "        rightCor = x + cropDim\n",
    "        upperCor = y - cropDim\n",
    "        lowerCor = y + cropDim\n",
    "        im = im.crop((leftCor, upperCor, rightCor, lowerCor))\n",
    "        im = im.resize((64, 64))\n",
    "        #path = directory + name + '_' + str(i) + '.png'\n",
    "        im.save('triplecroppedimage'+str(i)+'.jpg')"
   ]
  },
  {
   "cell_type": "code",
   "execution_count": 6,
   "metadata": {},
   "outputs": [],
   "source": [
    "def combineTripleCrop():\n",
    "    crop0 = imageio.imread('triplecroppedimage0.jpg')\n",
    "    crop1 = imageio.imread('triplecroppedimage1.jpg')\n",
    "    crop2 = imageio.imread('triplecroppedimage2.jpg')\n",
    "    H = 64\n",
    "    W = 64*3\n",
    "    C = 3\n",
    "    triple = np.zeros((H,W,C), dtype=np.uint8)\n",
    "    triple[:, :W//3, :] += crop0\n",
    "    triple[:, W//3 : 2*W//3, :] += crop1\n",
    "    triple[:, 2*W//3:, :] += crop2\n",
    "    imageio.imsave('combineimage.jpg', triple)"
   ]
  },
  {
   "cell_type": "code",
   "execution_count": null,
   "metadata": {},
   "outputs": [],
   "source": []
  }
 ],
 "metadata": {
  "kernelspec": {
   "display_name": "Python 3",
   "language": "python",
   "name": "python3"
  },
  "language_info": {
   "codemirror_mode": {
    "name": "ipython",
    "version": 3
   },
   "file_extension": ".py",
   "mimetype": "text/x-python",
   "name": "python",
   "nbconvert_exporter": "python",
   "pygments_lexer": "ipython3",
   "version": "3.8.5"
  }
 },
 "nbformat": 4,
 "nbformat_minor": 4
}
