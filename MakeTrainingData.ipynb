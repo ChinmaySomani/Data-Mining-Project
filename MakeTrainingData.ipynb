{
 "cells": [
  {
   "cell_type": "code",
   "execution_count": null,
   "metadata": {},
   "outputs": [],
   "source": [
    "from ipynb.fs.full.data_reader import *\n",
    "from ipynb.fs.full.Sacade_extractor import *\n",
    "from ipynb.fs.full.VideoUtilites import *"
   ]
  },
  {
   "cell_type": "code",
   "execution_count": null,
   "metadata": {},
   "outputs": [],
   "source": [
    "interval = intervals('beach.coord')\n",
    "velocity = velocities(interval)\n",
    "data = extract_saccades(velocity, interval)\n",
    "print(data.shape)"
   ]
  },
  {
   "cell_type": "code",
   "execution_count": null,
   "metadata": {},
   "outputs": [],
   "source": [
    "w = csv.writer(open(\"labels.csv\", \"a\"))\n",
    "entry = 0\n",
    "for point, label, timestamp in data:\n",
    "    x, y = point\n",
    "    getFrame(timestamp/1000, x, y, 'beach.m2t', entry)\n",
    "    tripleCrop('frame'+ str(entry) + '.jpg', point, 'triplecrop' + str(entry) + '/')\n",
    "    combineTripleCrop('triplecrop' + str(entry) + '/', entry)\n",
    "    label_x, label_y = label\n",
    "    CropDim = 512//2\n",
    "    if label_y > y + CropDim:\n",
    "        label_y = y + CropDim\n",
    "    elif label_y < y - CropDim:\n",
    "        label_y = y - CropDim\n",
    "    if label_x > x + CropDim:\n",
    "        label_x = x + CropDim\n",
    "    elif label_x < x - CropDim:\n",
    "        label_x = x - CropDim\n",
    "    \n",
    "    label_y_LeftBigCrop = label_y - y + CropDim\n",
    "    label_x_LeftBigCrop = label_x - x + CropDim\n",
    "    label_x_LeftBigCrop /= 8\n",
    "    label_y_LeftBigCrop /= 8  \n",
    "    label = (round(label_x_LeftBigCrop),round(label_x_LeftBigCrop))\n",
    "    w.writerow([entry,'TrainingData/combine' + str(entry)+'.jpg', label[0], label[1]])\n",
    "    entry = entry + 1"
   ]
  },
  {
   "cell_type": "code",
   "execution_count": null,
   "metadata": {},
   "outputs": [],
   "source": []
  }
 ],
 "metadata": {
  "kernelspec": {
   "display_name": "Python 3",
   "language": "python",
   "name": "python3"
  },
  "language_info": {
   "codemirror_mode": {
    "name": "ipython",
    "version": 3
   },
   "file_extension": ".py",
   "mimetype": "text/x-python",
   "name": "python",
   "nbconvert_exporter": "python",
   "pygments_lexer": "ipython3",
   "version": "3.8.2"
  }
 },
 "nbformat": 4,
 "nbformat_minor": 4
}
