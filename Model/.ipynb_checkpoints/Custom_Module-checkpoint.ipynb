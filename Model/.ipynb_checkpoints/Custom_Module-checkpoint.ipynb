{
 "cells": [
  {
   "cell_type": "code",
   "execution_count": 98,
   "metadata": {},
   "outputs": [],
   "source": [
    "import tensorflow as tf\n",
    "import cv2\n",
    "import numpy as np\n",
    "import os\n",
    "import PIL\n",
    "import PIL.Image"
   ]
  },
  {
   "cell_type": "code",
   "execution_count": 99,
   "metadata": {},
   "outputs": [],
   "source": [
    "class SingleCropEncoderModel(tf.keras.Model):\n",
    "\n",
    "    def __init__(self):\n",
    "        super(SingleCropEncoderModel, self).__init__()\n",
    "        self.conv1 = tf.keras.layers.Conv2D(16, (3,3), padding='same', activation='relu', input_shape=(64, 64, 3))\n",
    "        self.conv2 = tf.keras.layers.Conv2D(16, (3,3), padding='same', activation='relu')\n",
    "        self.conv3 = tf.keras.layers.Conv2D(16, (3,3), padding='same', activation='relu')\n",
    "        self.maxpool = tf.keras.layers.MaxPooling2D((2,2),2)\n",
    "\n",
    "    def call(self, inputs):\n",
    "        x = self.conv1(inputs)\n",
    "        x = self.maxpool(x)\n",
    "        x = self.conv2(x)\n",
    "        x = self.maxpool(x)\n",
    "        x = self.conv3(x)\n",
    "        x = self.maxpool(x)\n",
    "        return x"
   ]
  },
  {
   "cell_type": "code",
   "execution_count": 100,
   "metadata": {},
   "outputs": [],
   "source": [
    "class ConvTransposeNet(tf.keras.Model):\n",
    "\n",
    "    def __init__(self):\n",
    "        super(ConvTransposeNet, self).__init__()\n",
    "        self.convt1 = tf.keras.layers.Conv2DTranspose(16, (4,4), padding=1,strides=2, activation='relu', input_shape=(8, 8, 48))\n",
    "        self.convt2 = tf.keras.layers.Conv2DTranspose(1, (6,6), padding=1,strides=4, activation='sigmoid')\n",
    " \n",
    "    def call(self, inputs):\n",
    "        x = self.convt1(inputs)\n",
    "        x = self.convt2(x)\n",
    "        return x "
   ]
  },
  {
   "cell_type": "code",
   "execution_count": 101,
   "metadata": {},
   "outputs": [],
   "source": [
    "class ConvNet(tf.keras.Model):\n",
    "\n",
    "    def __init__(self):\n",
    "        super(ConvNet, self).__init__()\n",
    "        self.conv1 = tf.keras.layers.Conv2D(8, (3,3), padding=1,strides=1, activation='relu', input_shape=(8, 8, 48))\n",
    "        self.conv2 = tf.keras.layers.Conv2D(1, (3,3), padding=1,strides=1, activation='softmax')\n",
    "        self.maxpool = tf.keras.layers.MaxPooling2D((2,2),2)\n",
    " \n",
    "    def call(self, inputs):\n",
    "        x = self.conv1(inputs)\n",
    "        x = self.maxpool(x)\n",
    "        x = self.conv2(x)\n",
    "        return x "
   ]
  },
  {
   "cell_type": "code",
   "execution_count": 102,
   "metadata": {},
   "outputs": [],
   "source": [
    "class SeccadeModel(tf.keras.Model):\n",
    "    def __init__(self, name=None, version=2):\n",
    "        super(SeccadeModel, self).__init__()\n",
    "     #   self.sc128 = SingleCropEncoderModel(name)\n",
    "     #   self.sc256 = SingleCropEncoderModel(name)\n",
    "     #   self.sc512 =  SingleCropEncoderModel(name)\n",
    "        self.decoder = None\n",
    "        if version == 1:\n",
    "            convT_net = ConvTransposeNet()\n",
    "            self.decoder = convT_net\n",
    "        else:\n",
    "            conv_net = ConvNet()\n",
    "            self.decoder = conv_net\n",
    "        \n",
    "        \n",
    "    def call(self, x):\n",
    "        W = 64\n",
    "        x128 = x[:,:W,:,:]\n",
    "        x256 = x[:, W : 2*W,:,:]\n",
    "        x512 = x[:, 2*W : 3*W,:,:]\n",
    "        x128 = self.sc128.forward(x128)\n",
    "        x256 = self.sc128.forward(x256)\n",
    "        x512 = self.sc128.forward(x512)\n",
    "        H, W, C, N = x128.shape\n",
    "        C = C*3\n",
    "        encodings = np.zeros((H,W,C), dtype=np.uint8)\n",
    "        encodings[:,:, :C//3, :] += x128\n",
    "        encodings[:,:, C//3 : 2*C//3, :] += x256\n",
    "        encodings[:,:, 2*C//3:, :] += x512\n",
    "        decoded = self.decoder.forward(encodings)\n",
    "        return decoded"
   ]
  },
  {
   "cell_type": "code",
   "execution_count": 103,
   "metadata": {},
   "outputs": [
    {
     "data": {
      "text/plain": [
       "(1, 150, 150, 3)"
      ]
     },
     "execution_count": 103,
     "metadata": {},
     "output_type": "execute_result"
    }
   ],
   "source": [
    "from tensorflow.keras.preprocessing import image\n",
    "\n",
    "image_path = '../triplecroppedimage0.jpg'\n",
    "image = tf.keras.preprocessing.image.load_img(image_path)\n",
    "input_arr = tf.keras.preprocessing.image.img_to_array(image)\n",
    "input_arr = np.array([input_arr])\n",
    "input_arr.shape"
   ]
  },
  {
   "cell_type": "code",
   "execution_count": null,
   "metadata": {},
   "outputs": [],
   "source": []
  }
 ],
 "metadata": {
  "kernelspec": {
   "display_name": "Python 3",
   "language": "python",
   "name": "python3"
  },
  "language_info": {
   "codemirror_mode": {
    "name": "ipython",
    "version": 3
   },
   "file_extension": ".py",
   "mimetype": "text/x-python",
   "name": "python",
   "nbconvert_exporter": "python",
   "pygments_lexer": "ipython3",
   "version": "3.8.5"
  }
 },
 "nbformat": 4,
 "nbformat_minor": 4
}
